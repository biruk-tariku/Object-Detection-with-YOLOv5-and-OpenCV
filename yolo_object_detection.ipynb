{
  "cells": [
    {
      "cell_type": "code",
      "execution_count": 6,
      "metadata": {
        "id": "He6RGN_tOq1l"
      },
      "outputs": [],
      "source": [
        "from ultralytics import YOLO\n",
        "import cv2\n",
        "import cvzone\n",
        "import math"
      ]
    },
    {
      "cell_type": "code",
      "execution_count": null,
      "metadata": {
        "id": "_2_xdjczPG0u"
      },
      "outputs": [],
      "source": [
        "# cap = cv2.VideoCapture(0)\n",
        "# cap.set(3, 640)\n",
        "# cap.set(4, 480)\n",
        "\n",
        "# while True:\n",
        "#   success, img = cap.read()\n",
        "#   cv2.imshow(\"Image\", img)\n",
        "#   cv2.waitKey(1)\n",
        "\n",
        "cap = cv2.VideoCapture(\"cars.mp4\")\n",
        "model = YOLO(\"yolov8n.pt\")\n",
        "classNames = [\"person\", \"bicycle\", \"car\", \"motorbike\", \"aeroplane\", \"bus\", \"train\", \"truck\", \"boat\",\n",
        "              \"traffic light\", \"fire hydrant\", \"stop sign\", \"parking meter\", \"bench\", \"bird\", \"cat\",\n",
        "              \"dog\", \"horse\", \"sheep\", \"cow\", \"elephant\", \"bear\", \"zebra\", \"giraffe\", \"backpack\", \"umbrella\",\n",
        "              \"handbag\", \"tie\", \"suitcase\", \"frisbee\", \"skis\", \"snowboard\", \"sports ball\", \"kite\", \"baseball bat\",\n",
        "              \"baseball glove\", \"skateboard\", \"surfboard\", \"tennis racket\", \"bottle\", \"wine glass\", \"cup\",\n",
        "              \"fork\", \"knife\", \"spoon\", \"bowl\", \"banana\", \"apple\", \"sandwich\", \"orange\", \"broccoli\",\n",
        "              \"carrot\", \"hot dog\", \"pizza\", \"donut\", \"cake\", \"chair\", \"sofa\", \"pottedplant\", \"bed\",\n",
        "              \"diningtable\", \"toilet\", \"tvmonitor\", \"laptop\", \"mouse\", \"remote\", \"keyboard\", \"cell phone\",\n",
        "              \"microwave\", \"oven\", \"toaster\", \"sink\", \"refrigerator\", \"book\", \"clock\", \"vase\", \"scissors\",\n",
        "              \"teddy bear\", \"hair drier\", \"toothbrush\"\n",
        "              ]\n",
        "while True:\n",
        "  success, img = cap.read()\n",
        "  results = model(img, stream=True)\n",
        "  for r in results:\n",
        "    boxes = r.boxes\n",
        "    for box in boxes:\n",
        "      x1, y1, x2, y2 = box.xyxy[0]\n",
        "      x1, y1, x2, y2 = int(x1), int(y1), int(x2), int(y2)\n",
        "\n",
        "      w, h = x2 - x1, y2 - y1\n",
        "      cvzone.cornerRect(img, (x1, y1, w,h))\n",
        "\n",
        "      conf = math.ceil((box.conf[0] * 100)) / 100\n",
        "\n",
        "      cls = int(box.cls[0])\n",
        "      cvzone.putTextRect(img, f'{classNames[cls]} {conf}', (max(0, x1), max(35, y1)), scale=1, thickness=1)\n",
        "\n",
        "   cv2.imshow(\"Image\", img)\n",
        "   cv2.waitKey(1)\n"
      ]
    }
  ],
  "metadata": {
    "colab": {
      "provenance": []
    },
    "kernelspec": {
      "display_name": "Python 3",
      "name": "python3"
    },
    "language_info": {
      "name": "python"
    }
  },
  "nbformat": 4,
  "nbformat_minor": 0
}